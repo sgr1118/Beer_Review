{
 "cells": [
  {
   "cell_type": "markdown",
   "id": "50b7644c",
   "metadata": {},
   "source": [
    "# 맥주 리뷰 데이터 크롤링을 통하여 키워드 추출하기\n",
    "\n",
    "### 참고 코드\n",
    "- https://github.com/stelch1234/Python_Crawling/blob/master/rate_beer_crawling.py"
   ]
  },
  {
   "cell_type": "markdown",
   "id": "b8a5f55f",
   "metadata": {},
   "source": [
    "### executable_path has been deprecated, please pass in a Service object 오류 해결\n",
    "- https://velog.io/@sangyeon217/deprecation-warning-executablepath-has-been-deprecated"
   ]
  },
  {
   "cell_type": "code",
   "execution_count": 6,
   "id": "ab47ceea",
   "metadata": {
    "collapsed": true
   },
   "outputs": [
    {
     "name": "stdout",
     "output_type": "stream",
     "text": [
      "Collecting webdriver-manager\n",
      "  Downloading webdriver_manager-3.8.5-py2.py3-none-any.whl (27 kB)\n",
      "Collecting python-dotenv\n",
      "  Downloading python_dotenv-0.21.1-py3-none-any.whl (19 kB)\n",
      "Requirement already satisfied: packaging in d:\\anaconda\\lib\\site-packages (from webdriver-manager) (21.3)\n",
      "Requirement already satisfied: tqdm in d:\\anaconda\\lib\\site-packages (from webdriver-manager) (4.64.1)\n",
      "Requirement already satisfied: requests in d:\\anaconda\\lib\\site-packages (from webdriver-manager) (2.28.1)\n",
      "Requirement already satisfied: pyparsing!=3.0.5,>=2.0.2 in d:\\anaconda\\lib\\site-packages (from packaging->webdriver-manager) (3.0.9)\n",
      "Requirement already satisfied: certifi>=2017.4.17 in d:\\anaconda\\lib\\site-packages (from requests->webdriver-manager) (2022.9.14)\n",
      "Requirement already satisfied: idna<4,>=2.5 in d:\\anaconda\\lib\\site-packages (from requests->webdriver-manager) (3.3)\n",
      "Requirement already satisfied: charset-normalizer<3,>=2 in d:\\anaconda\\lib\\site-packages (from requests->webdriver-manager) (2.0.4)\n",
      "Requirement already satisfied: urllib3<1.27,>=1.21.1 in d:\\anaconda\\lib\\site-packages (from requests->webdriver-manager) (1.26.11)\n",
      "Requirement already satisfied: colorama in d:\\anaconda\\lib\\site-packages (from tqdm->webdriver-manager) (0.4.5)\n",
      "Installing collected packages: python-dotenv, webdriver-manager\n",
      "Successfully installed python-dotenv-0.21.1 webdriver-manager-3.8.5\n"
     ]
    }
   ],
   "source": [
    "!pip install webdriver-manager"
   ]
  },
  {
   "cell_type": "code",
   "execution_count": 19,
   "id": "19e0c0d7",
   "metadata": {},
   "outputs": [
    {
     "name": "stderr",
     "output_type": "stream",
     "text": [
      "C:\\Users\\Public\\Documents\\ESTsoft\\CreatorTemp\\ipykernel_19000\\2206058752.py:13: DeprecationWarning: executable_path has been deprecated, please pass in a Service object\n",
      "  driver = webdriver.Chrome('./chromedriver.exe')\n"
     ]
    }
   ],
   "source": [
    "# 필수 라이브러리 불러오기\n",
    "import requests\n",
    "import pandas as pd\n",
    "import time\n",
    "import os\n",
    "import re\n",
    "from bs4 import BeautifulSoup as bs\n",
    "from selenium import webdriver\n",
    "from selenium.webdriver.common.keys import Keys\n",
    "from selenium.webdriver.common.by import By # 셀레니움 4.0 이상부터는 element에 접근하기위해 필요하다.\n",
    "\n",
    "# chrome driver 불러오기\n",
    "driver = webdriver.Chrome('./chromedriver.exe')\n",
    "\n",
    "# 기본 설정\n",
    "# 맥주 : 파운더스 포터\n",
    "base_url = 'https://www.ratebeer.com/beer/founders-porter/3173/'\n",
    "driver.get(base_url)\n",
    "\n",
    "# 페이지 로드를 위한 시간 2초 부여\n",
    "time.sleep(2)\n",
    "\n",
    "# 전체 리뷰를 보기위해서는 show more를 클릭하여야 한다.\n",
    "# body = driver.find_element_by_tag_name('body')\n",
    "# 'WebDriver' object has no attribute 'find_element_by_tag_name' : 셀레니움 문법이 업데이트 되어 코드 변경\n",
    "body = driver.find_element(By.TAG_NAME, 'body')\n",
    "body.send_keys(Keys.DOWN)\n",
    "\n",
    "# driver.find_element_by_css_selector('#seeAll').click() : 셀레니움 문법이 업데이트 되어 코드 변경\n",
    "#driver.find_element(By.CSS_SELECTOR, '#LinesEllipsis-canvas ').click()\n",
    "\n",
    "# Show more 버튼을 누른 다음에 리뷰 페이지로 넘어가지만 스크롤을 계속 내려야 모든 리뷰를 볼 수 있다.\n",
    "# 스크롤을 밑으로 내려 보내는 작업\n",
    "\n",
    "#for page_down in range(1, 500):\n",
    "    #driver.execute_script('window.scrollTo(0, document.body.scrollHeight);')\n",
    "    #time.sleep(5)\n",
    "    \n",
    "# 댓글 태그가 2종류로 되어 있어 2종류 모두 불러온다.\n",
    "review_list = []\n",
    "soup = bs(driver.page_source, 'html.parser')\n",
    "reviews = soup.select('div.LinesEllipsis-canvas ')\n",
    "\n",
    "for review in reviews:\n",
    "    review = review.get_text() # 리뷰를 가져온다\n",
    "    # 태그 지우기\n",
    "    review  = re.sub('<.+?>', '', review, 0).strip()\n",
    "    review_list.append({'reviews' : review})\n",
    "    \n",
    "# csv 파일로 저장\n",
    "beer_df = pd.DataFrame(review_list)\n",
    "beer_df.to_csv('beer_Founders_Porter.csv', index = False)"
   ]
  },
  {
   "cell_type": "code",
   "execution_count": 20,
   "id": "6a2bc5b6",
   "metadata": {
    "scrolled": true
   },
   "outputs": [
    {
     "data": {
      "text/html": [
       "<div>\n",
       "<style scoped>\n",
       "    .dataframe tbody tr th:only-of-type {\n",
       "        vertical-align: middle;\n",
       "    }\n",
       "\n",
       "    .dataframe tbody tr th {\n",
       "        vertical-align: top;\n",
       "    }\n",
       "\n",
       "    .dataframe thead th {\n",
       "        text-align: right;\n",
       "    }\n",
       "</style>\n",
       "<table border=\"1\" class=\"dataframe\">\n",
       "  <thead>\n",
       "    <tr style=\"text-align: right;\">\n",
       "      <th></th>\n",
       "      <th>reviews</th>\n",
       "    </tr>\n",
       "  </thead>\n",
       "  <tbody>\n",
       "    <tr>\n",
       "      <th>0</th>\n",
       "      <td>Pours silky black with a creamy tan head. The ...</td>\n",
       "    </tr>\n",
       "    <tr>\n",
       "      <th>1</th>\n",
       "      <td>Pint at The Winking Lizard In Peninsula, Ohio ...</td>\n",
       "    </tr>\n",
       "    <tr>\n",
       "      <th>2</th>\n",
       "      <td>Draught, half pint. @\"Xarope\", Sarria. 31/12/2...</td>\n",
       "    </tr>\n",
       "    <tr>\n",
       "      <th>3</th>\n",
       "      <td>Twelve ounce bottle at Go Bananas Comedy Club ...</td>\n",
       "    </tr>\n",
       "    <tr>\n",
       "      <th>4</th>\n",
       "      <td>14 December 2022\\n\\n- Aroma: beautiful complex...</td>\n",
       "    </tr>\n",
       "    <tr>\n",
       "      <th>5</th>\n",
       "      <td>Founders Porter pours a rich opaque black brow...</td>\n",
       "    </tr>\n",
       "    <tr>\n",
       "      <th>6</th>\n",
       "      <td>Very dark and thick. Smoked and alcoholic. Eas...</td>\n",
       "    </tr>\n",
       "    <tr>\n",
       "      <th>7</th>\n",
       "      <td>Wonderful old fashioned Porter with plenty of ...</td>\n",
       "    </tr>\n",
       "    <tr>\n",
       "      <th>8</th>\n",
       "      <td>Botella 355cl de Hipercor. Color negro, espuma...</td>\n",
       "    </tr>\n",
       "    <tr>\n",
       "      <th>9</th>\n",
       "      <td>Ordered online from the LCBO, I was eager to t...</td>\n",
       "    </tr>\n",
       "    <tr>\n",
       "      <th>10</th>\n",
       "      <td>335ml bottle. Pours a deep black with strong f...</td>\n",
       "    </tr>\n",
       "    <tr>\n",
       "      <th>11</th>\n",
       "      <td>Robust opaque dark color. Coffee, dark chocola...</td>\n",
       "    </tr>\n",
       "    <tr>\n",
       "      <th>12</th>\n",
       "      <td>Een heerlijke porter met tonen van chocolade, ...</td>\n",
       "    </tr>\n",
       "    <tr>\n",
       "      <th>13</th>\n",
       "      <td>Olfatto: caffè, olive nere, poco cioccolato fo...</td>\n",
       "    </tr>\n",
       "    <tr>\n",
       "      <th>14</th>\n",
       "      <td>Bottle from Dranken Verheyen in Poppel, Belgiu...</td>\n",
       "    </tr>\n",
       "    <tr>\n",
       "      <th>15</th>\n",
       "      <td>Aroma of dark coffee malts. Poured black tan l...</td>\n",
       "    </tr>\n",
       "  </tbody>\n",
       "</table>\n",
       "</div>"
      ],
      "text/plain": [
       "                                              reviews\n",
       "0   Pours silky black with a creamy tan head. The ...\n",
       "1   Pint at The Winking Lizard In Peninsula, Ohio ...\n",
       "2   Draught, half pint. @\"Xarope\", Sarria. 31/12/2...\n",
       "3   Twelve ounce bottle at Go Bananas Comedy Club ...\n",
       "4   14 December 2022\\n\\n- Aroma: beautiful complex...\n",
       "5   Founders Porter pours a rich opaque black brow...\n",
       "6   Very dark and thick. Smoked and alcoholic. Eas...\n",
       "7   Wonderful old fashioned Porter with plenty of ...\n",
       "8   Botella 355cl de Hipercor. Color negro, espuma...\n",
       "9   Ordered online from the LCBO, I was eager to t...\n",
       "10  335ml bottle. Pours a deep black with strong f...\n",
       "11  Robust opaque dark color. Coffee, dark chocola...\n",
       "12  Een heerlijke porter met tonen van chocolade, ...\n",
       "13  Olfatto: caffè, olive nere, poco cioccolato fo...\n",
       "14  Bottle from Dranken Verheyen in Poppel, Belgiu...\n",
       "15  Aroma of dark coffee malts. Poured black tan l..."
      ]
     },
     "execution_count": 20,
     "metadata": {},
     "output_type": "execute_result"
    }
   ],
   "source": [
    "beer = pd.read_csv('beer_Founders_Porter.csv')\n",
    "beer"
   ]
  },
  {
   "cell_type": "code",
   "execution_count": 27,
   "id": "4dface30",
   "metadata": {},
   "outputs": [
    {
     "data": {
      "text/plain": [
       "'Pint at The Winking Lizard In Peninsula, Ohio to start the new year. Smell the roasted malt. Black in color with tan head. Taste the sweet roasted malt. Very smooth and taste is complexed. Sweet malt aftertaste. Super…'"
      ]
     },
     "execution_count": 27,
     "metadata": {},
     "output_type": "execute_result"
    }
   ],
   "source": [
    "beer['reviews'][1]"
   ]
  }
 ],
 "metadata": {
  "kernelspec": {
   "display_name": "Python 3 (ipykernel)",
   "language": "python",
   "name": "python3"
  },
  "language_info": {
   "codemirror_mode": {
    "name": "ipython",
    "version": 3
   },
   "file_extension": ".py",
   "mimetype": "text/x-python",
   "name": "python",
   "nbconvert_exporter": "python",
   "pygments_lexer": "ipython3",
   "version": "3.9.13"
  }
 },
 "nbformat": 4,
 "nbformat_minor": 5
}
